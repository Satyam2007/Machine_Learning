{
 "cells": [
  {
   "cell_type": "code",
   "execution_count": 2,
   "id": "fewer-volume",
   "metadata": {},
   "outputs": [],
   "source": [
    "from os import listdir\n",
    "from numpy import asarray, vstack\n",
    "from keras.preprocessing.image import img_to_array, load_img\n",
    "from numpy import savez_compressed"
   ]
  },
  {
   "cell_type": "code",
   "execution_count": null,
   "id": "blocked-question",
   "metadata": {},
   "outputs": [],
   "source": [
    "#compiling all the images into a single directory\n",
    "def compile_images(path, size=(256,512)):\n",
    "    src_list, tar_list = list(), list()\n",
    "    \n",
    "    #mentioning filename in a single directory\n",
    "    for filename in listdir(path):\n",
    "        #resising the images according to pixels\n",
    "        pixels = load_img(path + filename, target_size=size)\n",
    "        \n",
    "        #converting the images to numpy array\n",
    "        pixels = img_to_array(pixels)\n",
    "        \n",
    "        #splitting the images into contact map \n",
    "        "
   ]
  }
 ],
 "metadata": {
  "kernelspec": {
   "display_name": "Python 3",
   "language": "python",
   "name": "python3"
  },
  "language_info": {
   "codemirror_mode": {
    "name": "ipython",
    "version": 3
   },
   "file_extension": ".py",
   "mimetype": "text/x-python",
   "name": "python",
   "nbconvert_exporter": "python",
   "pygments_lexer": "ipython3",
   "version": "3.7.3"
  }
 },
 "nbformat": 4,
 "nbformat_minor": 5
}
