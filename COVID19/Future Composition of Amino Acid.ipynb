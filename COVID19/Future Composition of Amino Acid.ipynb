{
 "cells": [
  {
   "cell_type": "code",
   "execution_count": 9,
   "id": "blessed-badge",
   "metadata": {},
   "outputs": [],
   "source": [
    "import numpy as np\n",
    "import matplotlib.pyplot as plt\n",
    "from Bio import SeqIO\n",
    "from collections import Counter"
   ]
  },
  {
   "cell_type": "code",
   "execution_count": 10,
   "id": "representative-impression",
   "metadata": {},
   "outputs": [
    {
     "data": {
      "text/plain": [
       "SeqRecord(seq=Seq('ATTAAAGGTTTATACCTTCCCAGGTAACAAACCAACCAACTTTCGATCTCTTGT...AAA'), id='MN908947.3', name='MN908947.3', description='MN908947.3 Severe acute respiratory syndrome coronavirus 2 isolate Wuhan-Hu-1, complete genome', dbxrefs=[])"
      ]
     },
     "execution_count": 10,
     "metadata": {},
     "output_type": "execute_result"
    }
   ],
   "source": [
    "covid_sequence = SeqIO.read(\"/home/satyam/covid_wuhan_seq.fa\",\"fasta\")\n",
    "covid_sequence"
   ]
  },
  {
   "cell_type": "code",
   "execution_count": 11,
   "id": "accurate-topic",
   "metadata": {},
   "outputs": [
    {
     "data": {
      "text/plain": [
       "Seq('ATTAAAGGTTTATACCTTCCCAGGTAACAAACCAACCAACTTTCGATCTCTTGT...AAA')"
      ]
     },
     "execution_count": 11,
     "metadata": {},
     "output_type": "execute_result"
    }
   ],
   "source": [
    "covid_nucleotide_sequence = covid_sequence.seq\n",
    "covid_nucleotide_sequence"
   ]
  },
  {
   "cell_type": "code",
   "execution_count": 12,
   "id": "instrumental-example",
   "metadata": {},
   "outputs": [
    {
     "name": "stdout",
     "output_type": "stream",
     "text": [
      "The lenght of the Covid Nucleotide Sequence is ----> 29903\n"
     ]
    }
   ],
   "source": [
    "print(\"The lenght of the Covid Nucleotide Sequence is ---->\", len(covid_nucleotide_sequence))"
   ]
  },
  {
   "cell_type": "code",
   "execution_count": 13,
   "id": "specific-volleyball",
   "metadata": {},
   "outputs": [
    {
     "data": {
      "text/plain": [
       "Seq('IKGLYLPR*QTNQLSISCRSVL*TNFKICVAVTRLHA*CTHAV*LITNYCR*QD...KKK')"
      ]
     },
     "execution_count": 13,
     "metadata": {},
     "output_type": "execute_result"
    }
   ],
   "source": [
    "#translating the sequence\n",
    "covid_protein_sequence = covid_nucleotide_sequence.translate()\n",
    "covid_protein_sequence"
   ]
  },
  {
   "cell_type": "code",
   "execution_count": 14,
   "id": "personalized-bermuda",
   "metadata": {},
   "outputs": [
    {
     "name": "stdout",
     "output_type": "stream",
     "text": [
      "The length of covid protein sequence is ----> 9967\n"
     ]
    }
   ],
   "source": [
    "print(\"The length of covid protein sequence is ---->\", len(covid_protein_sequence))"
   ]
  },
  {
   "cell_type": "code",
   "execution_count": 15,
   "id": "conscious-passport",
   "metadata": {},
   "outputs": [
    {
     "data": {
      "text/plain": [
       "Counter({'I': 436,\n",
       "         'K': 413,\n",
       "         'G': 394,\n",
       "         'L': 886,\n",
       "         'Y': 505,\n",
       "         'P': 292,\n",
       "         'R': 558,\n",
       "         '*': 774,\n",
       "         'Q': 325,\n",
       "         'T': 679,\n",
       "         'N': 472,\n",
       "         'S': 810,\n",
       "         'C': 635,\n",
       "         'V': 548,\n",
       "         'F': 593,\n",
       "         'A': 375,\n",
       "         'H': 332,\n",
       "         'D': 290,\n",
       "         'E': 270,\n",
       "         'W': 263,\n",
       "         'M': 117})"
      ]
     },
     "execution_count": 15,
     "metadata": {},
     "output_type": "execute_result"
    }
   ],
   "source": [
    "covid_amino_acid_frequency = Counter(covid_protein_sequence)\n",
    "covid_amino_acid_frequency"
   ]
  },
  {
   "cell_type": "code",
   "execution_count": 28,
   "id": "funky-lithuania",
   "metadata": {},
   "outputs": [
    {
     "name": "stdout",
     "output_type": "stream",
     "text": [
      "The current composition of Alanine (A) is ----->  3.7624159727099427\n",
      "The current composition of Cysteine (C) is ----->  6.371024380455504\n",
      "The current composition of Aspartic Acid (D) is ----->  2.9096016855623557\n",
      "The current composition of Glutamic Acid (E) is ----->  2.7089395003511587\n",
      "The current composition of Phenylalanine (F) is ----->  5.94963379151199\n",
      "The current composition of Glycine (G) is ----->  3.95304504866058\n",
      "The current composition of Histidine (H) is ----->  3.3309922745058693\n",
      "The current composition of Isoleucine (I) is ----->  4.374435637604093\n",
      "The current composition of Lysine (K) is ----->  4.143674124611217\n",
      "The current composition of Leucine (L) is ----->  8.889334804856025\n",
      "The current composition of Methionine (M) is ----->  1.1738737834855022\n",
      "The current composition of Asparagine (N) is ----->  4.735627570984248\n",
      "The current composition of Proline (P) is ----->  2.9296679040834754\n",
      "The current composition of Glutamine (Q) is ----->  3.2607605096819503\n",
      "The current composition of Arginine (R) is ----->  5.598474967392395\n",
      "The current composition of Serine (S) is ----->  8.126818501053476\n",
      "The current composition of Threonine (T) is ----->  6.8124811879201355\n",
      "The current composition of Valine (V) is ----->  5.498143874786797\n",
      "The current composition of Tryptophan (W) is ----->  2.63870773552724\n",
      "The current composition of Tyrosine (Y) is ----->  5.066720176582723\n",
      "The current composition of Stop Codon (*) is ----->  7.765626567673321\n"
     ]
    }
   ],
   "source": [
    "#Calculating the current composition for Amino Acid\n",
    "Current_A = covid_protein_sequence.count(\"A\")/len(covid_protein_sequence)\n",
    "Current_C = covid_protein_sequence.count(\"C\")/len(covid_protein_sequence)\n",
    "Current_D = covid_protein_sequence.count(\"D\")/len(covid_protein_sequence)\n",
    "Current_E = covid_protein_sequence.count(\"E\")/len(covid_protein_sequence)\n",
    "Current_F = covid_protein_sequence.count(\"F\")/len(covid_protein_sequence)\n",
    "Current_G = covid_protein_sequence.count(\"G\")/len(covid_protein_sequence)\n",
    "Current_H = covid_protein_sequence.count(\"H\")/len(covid_protein_sequence)\n",
    "Current_I = covid_protein_sequence.count(\"I\")/len(covid_protein_sequence)\n",
    "Current_K = covid_protein_sequence.count(\"K\")/len(covid_protein_sequence)\n",
    "Current_L = covid_protein_sequence.count(\"L\")/len(covid_protein_sequence)\n",
    "Current_M = covid_protein_sequence.count(\"M\")/len(covid_protein_sequence)\n",
    "Current_N = covid_protein_sequence.count(\"N\")/len(covid_protein_sequence)\n",
    "Current_P = covid_protein_sequence.count(\"P\")/len(covid_protein_sequence)\n",
    "Current_Q = covid_protein_sequence.count(\"Q\")/len(covid_protein_sequence)\n",
    "Current_R = covid_protein_sequence.count(\"R\")/len(covid_protein_sequence)\n",
    "Current_S = covid_protein_sequence.count(\"S\")/len(covid_protein_sequence)\n",
    "Current_T = covid_protein_sequence.count(\"T\")/len(covid_protein_sequence)\n",
    "Current_V = covid_protein_sequence.count(\"V\")/len(covid_protein_sequence)\n",
    "Current_W = covid_protein_sequence.count(\"W\")/len(covid_protein_sequence)\n",
    "Current_Y = covid_protein_sequence.count(\"Y\")/len(covid_protein_sequence)\n",
    "Current_STOP = covid_protein_sequence.count(\"*\")/len(covid_protein_sequence)\n",
    "\n",
    "print(\"The current composition of Alanine (A) is -----> \",Current_A*100)\n",
    "print(\"The current composition of Cysteine (C) is -----> \",Current_C*100)\n",
    "print(\"The current composition of Aspartic Acid (D) is -----> \",Current_D*100)\n",
    "print(\"The current composition of Glutamic Acid (E) is -----> \",Current_E*100)\n",
    "print(\"The current composition of Phenylalanine (F) is -----> \",Current_F*100)\n",
    "print(\"The current composition of Glycine (G) is -----> \",Current_G*100)\n",
    "print(\"The current composition of Histidine (H) is -----> \",Current_H*100)\n",
    "print(\"The current composition of Isoleucine (I) is -----> \",Current_I*100)\n",
    "print(\"The current composition of Lysine (K) is -----> \",Current_K*100)\n",
    "print(\"The current composition of Leucine (L) is -----> \",Current_L*100)\n",
    "print(\"The current composition of Methionine (M) is -----> \",Current_M*100)\n",
    "print(\"The current composition of Asparagine (N) is -----> \",Current_N*100)\n",
    "print(\"The current composition of Proline (P) is -----> \",Current_P*100)\n",
    "print(\"The current composition of Glutamine (Q) is -----> \",Current_Q*100)\n",
    "print(\"The current composition of Arginine (R) is -----> \",Current_R*100)\n",
    "print(\"The current composition of Serine (S) is -----> \",Current_S*100)\n",
    "print(\"The current composition of Threonine (T) is -----> \",Current_T*100)\n",
    "print(\"The current composition of Valine (V) is -----> \",Current_V*100)\n",
    "print(\"The current composition of Tryptophan (W) is -----> \",Current_W*100)\n",
    "print(\"The current composition of Tyrosine (Y) is -----> \",Current_Y*100)\n",
    "print(\"The current composition of Stop Codon (*) is -----> \",Current_STOP*100)"
   ]
  },
  {
   "cell_type": "code",
   "execution_count": 30,
   "id": "selected-plaza",
   "metadata": {},
   "outputs": [
    {
     "name": "stdout",
     "output_type": "stream",
     "text": [
      "The future probability of Alanine (A) is ------>  4.60185278084345\n",
      "The future probability of Cysteine (C) is ------>  5.955207741101189\n",
      "The future probability of Aspartic Acid (D) is ------>  3.8527139560549815\n",
      "The future probability of Glutamic Acid (E) is ------>  4.101312107733298\n",
      "The future probability of Phenylalanine (F) is ------>  6.894975641840295\n",
      "The future probability of Glycine (G) is ------>  4.686298117119829\n",
      "The future probability of Histidine (H) is ------>  4.442437822592332\n",
      "The future probability of Isoleucine (I) is ------>  5.541620681582556\n",
      "The future probability of Lysine (K) is ------>  4.726151856682608\n",
      "The future probability of Leucine (L) is ------>  6.259731186991145\n",
      "The future probability of Methionine (M) is ------>  5.883861186359431\n",
      "The future probability of Asparagine (N) is ------>  4.849336142603926\n",
      "The future probability of Proline (P) is ------>  4.731725806271808\n",
      "The future probability of Glutamine (Q) is ------>  4.662051436406809\n",
      "The future probability of Arginine (R) is ------>  5.457825639424917\n",
      "The future probability of Serine (S) is ------>  6.154940934714186\n",
      "The future probability of Threonine (T) is ------>  5.570326521966935\n",
      "The future probability of Valine (V) is ------>  5.211364168422461\n",
      "The future probability of Tryptophan (W) is ------>  6.7154944650680575\n",
      "The future probability of Tyrosine (Y) is ------>  5.780185724000312\n",
      "The future probability of Stop Codon (*) is ------>  5.533445555518396\n"
     ]
    }
   ],
   "source": [
    "#Calculating the future composition of the Amino Acidds\n",
    "A = covid_protein_sequence.count(\"A\")\n",
    "C = covid_protein_sequence.count(\"C\")\n",
    "D = covid_protein_sequence.count(\"D\")\n",
    "E = covid_protein_sequence.count(\"E\")\n",
    "F = covid_protein_sequence.count(\"F\")\n",
    "G = covid_protein_sequence.count(\"G\")\n",
    "H = covid_protein_sequence.count(\"H\")\n",
    "I = covid_protein_sequence.count(\"I\")\n",
    "K = covid_protein_sequence.count(\"K\")\n",
    "L = covid_protein_sequence.count(\"L\")\n",
    "M = covid_protein_sequence.count(\"M\")\n",
    "N = covid_protein_sequence.count(\"N\")\n",
    "P = covid_protein_sequence.count(\"P\")\n",
    "Q = covid_protein_sequence.count(\"Q\")\n",
    "R = covid_protein_sequence.count(\"R\")\n",
    "S = covid_protein_sequence.count(\"S\")\n",
    "T = covid_protein_sequence.count(\"T\")\n",
    "V = covid_protein_sequence.count(\"V\")\n",
    "W = covid_protein_sequence.count(\"W\")\n",
    "Y = covid_protein_sequence.count(\"Y\")\n",
    "STOP = covid_protein_sequence.count(\"*\")\n",
    "\n",
    "future_A = (((12*A) + (2*D) + (2*E) + (4*G) + (4*P) + (4*S) + (4*T) + (4*V))/(36*len(covid_protein_sequence)))\n",
    "future_C = (((2*R) + (2*C) + (2*G) + (2*F) + (4*S) + (2*W) + (2*Y) + (2*STOP))/(18*len(covid_protein_sequence)))\n",
    "future_D = (((2*A) + (2*N) + (2*D) + (4*E) + (2*G) + (2*H) + (2*Y) + (2*V))/(18*len(covid_protein_sequence)))\n",
    "future_E = (((2*A) + (4*D) + (2*E) + (2*Q) + (2*G) + (2*K) + (2*V) + (2*STOP))/(18*len(covid_protein_sequence)))\n",
    "future_F = (((2*C) + (2*I) + (6*L) + (2*F) + (2*S) + (2*Y) + (2*V))/(18*len(covid_protein_sequence)))\n",
    "future_G = (((4*A) + (6*R) + (2*D) + (2*C) + (2*E) + (12*G) + (2*S) + (1*W) + (4*V) + (1*STOP))/(36*len(covid_protein_sequence)))\n",
    "future_H = (((2*R) + (2*N) + (2*D) + (4*Q) + (2*H) + (2*L) + (2*P) + (2*Y))/(18*len(covid_protein_sequence)))\n",
    "future_I = (((1*R) + (2*N) + (6*I) + (4*L) + (1*K) + (3*M) + (2*F) + (2*S) + (3*T) + (3*V))/(27*len(covid_protein_sequence)))\n",
    "future_K = (((2*R) + (4*N) + (2*E) + (2*Q) + (1*I) + (2*K) + (1*M) + (2*T) + (2*STOP))/(18*len(covid_protein_sequence)))\n",
    "future_L = (((4*R) + (2*Q) + (2*H) + (4*I) + (18*L) + (2*M) + (6*F) + (4*P) + (2*S) + (1*W) + (6*V) + (3*STOP))/(54*len(covid_protein_sequence)))\n",
    "future_M = (((1*R) + (3*I) + (2*L) + (1*K) + (1*T) + (1*V))/(9*len(covid_protein_sequence)))\n",
    "future_N = (((2*N) + (2*D) + (2*H) + (2*I) + (4*K) + (2*S) + (2*T) + (2*Y))/(18*len(covid_protein_sequence)))\n",
    "future_P = (((4*A) + (4*D) + (2*Q) + (2*H) + (4*L) + (12*P) + (4*S) + (4*T))/(36*len(covid_protein_sequence)))\n",
    "future_Q = (((2*R) + (2*E) + (2*Q) + (4*H) + (2*L) + (2*K) + (2*P) + (2*STOP))/(18*len(covid_protein_sequence)))\n",
    "future_R = (((18*R) + (2*C) + (2*Q) + (6*G) + (2*H) + (1*I) + (4*L) + (2*K) + (1*M) + (4*P) + (6*S) + (2*T) + (2*W) + (2*STOP))/(54*len(covid_protein_sequence)))\n",
    "future_S = (((4*A) + (6*R) + (2*N) + (4*C) + (2*G) + (2*I) + (2*L) + (2*F) + (4*P) + (14*S) + (6*T) + (1*W) + (2*Y) + (3*STOP))/(54*len(covid_protein_sequence)))\n",
    "future_T = (((4*A) + (2*R) + (2*N) + (3*I) + (2*K) + (1*M) + (4*P) + (6*S) + (12*T))/(36*len(covid_protein_sequence)))\n",
    "future_V = (((4*A) + (2*D) + (2*E) + (4*G) + (3*I) + (6*L) + (1*M) + (2*F) + (12*V))/(36*len(covid_protein_sequence)))\n",
    "future_W = (((2*R) + (2*C) + (1*G) + (1*L) + (1*S) + (2*STOP))/(9*len(covid_protein_sequence)))\n",
    "future_Y = (((2*N) + (2*D) + (2*C) + (2*H) + (2*F) + (2*S) + (2*Y) + (4*STOP))/(18*len(covid_protein_sequence)))\n",
    "future_STOP = (((2*R) + (1*C) + (2*E) + (2*Q) + (1*G) + (3*L) + (2*K) + (3*S) + (2*W) + (4*Y) + (4*STOP))/(27*len(covid_protein_sequence)))\n",
    "\n",
    "print(\"The future probability of Alanine (A) is ------> \",future_A*100)\n",
    "print(\"The future probability of Cysteine (C) is ------> \",future_C*100)\n",
    "print(\"The future probability of Aspartic Acid (D) is ------> \",future_D*100)\n",
    "print(\"The future probability of Glutamic Acid (E) is ------> \",future_E*100)\n",
    "print(\"The future probability of Phenylalanine (F) is ------> \",future_F*100)\n",
    "print(\"The future probability of Glycine (G) is ------> \",future_G*100)\n",
    "print(\"The future probability of Histidine (H) is ------> \",future_H*100)\n",
    "print(\"The future probability of Isoleucine (I) is ------> \",future_I*100)\n",
    "print(\"The future probability of Lysine (K) is ------> \",future_K*100)\n",
    "print(\"The future probability of Leucine (L) is ------> \",future_L*100)\n",
    "print(\"The future probability of Methionine (M) is ------> \",future_M*100)\n",
    "print(\"The future probability of Asparagine (N) is ------> \",future_N*100)\n",
    "print(\"The future probability of Proline (P) is ------> \",future_P*100)\n",
    "print(\"The future probability of Glutamine (Q) is ------> \",future_Q*100)\n",
    "print(\"The future probability of Arginine (R) is ------> \",future_R*100)\n",
    "print(\"The future probability of Serine (S) is ------> \",future_S*100)\n",
    "print(\"The future probability of Threonine (T) is ------> \",future_T*100)\n",
    "print(\"The future probability of Valine (V) is ------> \",future_V*100)\n",
    "print(\"The future probability of Tryptophan (W) is ------> \",future_W*100)\n",
    "print(\"The future probability of Tyrosine (Y) is ------> \",future_Y*100)\n",
    "print(\"The future probability of Stop Codon (*) is ------> \",future_STOP*100)"
   ]
  },
  {
   "cell_type": "code",
   "execution_count": 32,
   "id": "automotive-shock",
   "metadata": {},
   "outputs": [
    {
     "name": "stdout",
     "output_type": "stream",
     "text": [
      "The ratio of Future and Current Alanine Count is ----->  1.2231111111111113\n",
      "The ratio of Future and Current Custeine Count is ----->  0.9347331583552055\n",
      "The ratio of Future and Current Aspartic Acid Count is ----->  1.324137931034483\n",
      "The ratio of Future and Current Glutamic Acid Count is ----->  1.5139917695473253\n",
      "The ratio of Future and Current Phenylalanine Count is ----->  1.158890762600712\n",
      "The ratio of Future and Current Glycine Count is ----->  1.1854906937394247\n",
      "The ratio of Future and Current Histidine Count is ----->  1.3336680053547523\n",
      "The ratio of Future and Current Isoleucine Count is ----->  1.2668195718654434\n",
      "The ratio of Future and Current Lysine Count is ----->  1.1405703524347592\n",
      "The ratio of Future and Current Leucine Count is ----->  0.7041844327397375\n",
      "The ratio of Future and Current Methionine Count is ----->  5.012345679012346\n",
      "The ratio of Future and Current Asparagine Count is ----->  1.0240112994350283\n",
      "The ratio of Future and Current Proline Count is ----->  1.6151065449010655\n",
      "The ratio of Future and Current Glutamine Count is ----->  1.4297435897435897\n",
      "The ratio of Future and Current Arginine Count is ----->  0.9748772069560601\n",
      "The ratio of Future and Current Serine Count is ----->  0.7573616826703247\n",
      "The ratio of Future and Current Threonine Count is ----->  0.8176648666339389\n",
      "The ratio of Future and Current Valine Count is ----->  0.9478406326034063\n",
      "The ratio of Future and Current Tryptophan Count is ----->  2.544993662864385\n",
      "The ratio of Future and Current Tyrosine Count is ----->  1.1408140814081407\n",
      "The ratio of Future and Current Stop Codon Count is ----->  0.7125562254761222\n"
     ]
    }
   ],
   "source": [
    "#Ratio of Future versus the Current composition\n",
    "print(\"The ratio of Future and Current Alanine Count is -----> \",(future_A/Current_A))\n",
    "print(\"The ratio of Future and Current Custeine Count is -----> \",(future_C/Current_C))\n",
    "print(\"The ratio of Future and Current Aspartic Acid Count is -----> \",(future_D/Current_D))\n",
    "print(\"The ratio of Future and Current Glutamic Acid Count is -----> \",(future_E/Current_E))\n",
    "print(\"The ratio of Future and Current Phenylalanine Count is -----> \",(future_F/Current_F))\n",
    "print(\"The ratio of Future and Current Glycine Count is -----> \",(future_G/Current_G))\n",
    "print(\"The ratio of Future and Current Histidine Count is -----> \",(future_H/Current_H))\n",
    "print(\"The ratio of Future and Current Isoleucine Count is -----> \",(future_I/Current_I))\n",
    "print(\"The ratio of Future and Current Lysine Count is -----> \",(future_K/Current_K))\n",
    "print(\"The ratio of Future and Current Leucine Count is -----> \",(future_L/Current_L))\n",
    "print(\"The ratio of Future and Current Methionine Count is -----> \",(future_M/Current_M))\n",
    "print(\"The ratio of Future and Current Asparagine Count is -----> \",(future_N/Current_N))\n",
    "print(\"The ratio of Future and Current Proline Count is -----> \",(future_P/Current_P))\n",
    "print(\"The ratio of Future and Current Glutamine Count is -----> \",(future_Q/Current_Q))\n",
    "print(\"The ratio of Future and Current Arginine Count is -----> \",(future_R/Current_R))\n",
    "print(\"The ratio of Future and Current Serine Count is -----> \",(future_S/Current_S))\n",
    "print(\"The ratio of Future and Current Threonine Count is -----> \",(future_T/Current_T))\n",
    "print(\"The ratio of Future and Current Valine Count is -----> \",(future_V/Current_V))\n",
    "print(\"The ratio of Future and Current Tryptophan Count is -----> \",(future_W/Current_W))\n",
    "print(\"The ratio of Future and Current Tyrosine Count is -----> \",(future_Y/Current_Y))\n",
    "print(\"The ratio of Future and Current Stop Codon Count is -----> \",(future_STOP/Current_STOP))"
   ]
  },
  {
   "cell_type": "code",
   "execution_count": null,
   "id": "brown-financing",
   "metadata": {},
   "outputs": [],
   "source": []
  }
 ],
 "metadata": {
  "kernelspec": {
   "display_name": "Python 3",
   "language": "python",
   "name": "python3"
  },
  "language_info": {
   "codemirror_mode": {
    "name": "ipython",
    "version": 3
   },
   "file_extension": ".py",
   "mimetype": "text/x-python",
   "name": "python",
   "nbconvert_exporter": "python",
   "pygments_lexer": "ipython3",
   "version": "3.7.3"
  }
 },
 "nbformat": 4,
 "nbformat_minor": 5
}
